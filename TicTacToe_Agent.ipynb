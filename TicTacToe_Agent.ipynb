{
 "cells": [
  {
   "cell_type": "markdown",
   "metadata": {
    "id": "rznSDgbvGggG"
   },
   "source": [
    "## Tic-Tac-Toe Agent\n",
    "In this notebook, you will learn to build an RL agent (using Q-learning) that learns to play Numerical Tic-Tac-Toe with odd numbers. The environment is playing randomly with the agent, i.e. its strategy is to put an even number randomly in an empty cell. The following is the layout of the notebook:\n",
    "\n",
    "        - Defining epsilon-greedy strategy\n",
    "        - Tracking state-action pairs for convergence\n",
    "        - Define hyperparameters for the Q-learning algorithm\n",
    "        - Generating episode and applying Q-update equation\n",
    "        - Checking convergence in Q-values"
   ]
  },
  {
   "cell_type": "markdown",
   "metadata": {
    "id": "8eDb8PxBGggH"
   },
   "source": [
    "#### Importing libraries\n",
    "Write the code to import Tic-Tac-Toe class from the environment file"
   ]
  },
  {
   "cell_type": "code",
   "execution_count": 1,
   "metadata": {
    "colab": {
     "base_uri": "https://localhost:8080/"
    },
    "executionInfo": {
     "elapsed": 26244,
     "status": "ok",
     "timestamp": 1639924531852,
     "user": {
      "displayName": "Rajib Biswas",
      "photoUrl": "https://lh3.googleusercontent.com/a/default-user=s64",
      "userId": "04413770521638197642"
     },
     "user_tz": -330
    },
    "id": "JONLn8GyFTld",
    "outputId": "1df799b8-6de7-477e-c997-a0c696473e68"
   },
   "outputs": [
    {
     "name": "stdout",
     "output_type": "stream",
     "text": [
      "Mounted at /content/drive\n"
     ]
    }
   ],
   "source": [
    "from google.colab import drive\n",
    "drive.mount('/content/drive')"
   ]
  },
  {
   "cell_type": "code",
   "execution_count": 2,
   "metadata": {
    "executionInfo": {
     "elapsed": 1538,
     "status": "ok",
     "timestamp": 1639924533356,
     "user": {
      "displayName": "Rajib Biswas",
      "photoUrl": "https://lh3.googleusercontent.com/a/default-user=s64",
      "userId": "04413770521638197642"
     },
     "user_tz": -330
    },
    "id": "RIouiBe8Fu7Y"
   },
   "outputs": [],
   "source": [
    "import sys\n",
    "sys.path.insert(0,\"/content/drive/MyDrive/Colab Notebooks/RL/Tic Tac Toe\")\n",
    "import TCGame_Env"
   ]
  },
  {
   "cell_type": "code",
   "execution_count": 3,
   "metadata": {
    "executionInfo": {
     "elapsed": 116,
     "status": "ok",
     "timestamp": 1639924533360,
     "user": {
      "displayName": "Rajib Biswas",
      "photoUrl": "https://lh3.googleusercontent.com/a/default-user=s64",
      "userId": "04413770521638197642"
     },
     "user_tz": -330
    },
    "id": "6SFNYceFGggJ"
   },
   "outputs": [],
   "source": [
    "# import your class from environment file\n",
    "from TCGame_Env import TicTacToe \n",
    "import collections\n",
    "import numpy as np\n",
    "import random\n",
    "import pickle\n",
    "path = '/content/drive/MyDrive/Colab Notebooks/RL/Tic Tac Toe/'\n",
    "import time\n",
    "from matplotlib import pyplot as plt\n",
    "\n",
    "env = TicTacToe()"
   ]
  },
  {
   "cell_type": "code",
   "execution_count": 4,
   "metadata": {
    "executionInfo": {
     "elapsed": 110,
     "status": "ok",
     "timestamp": 1639924533363,
     "user": {
      "displayName": "Rajib Biswas",
      "photoUrl": "https://lh3.googleusercontent.com/a/default-user=s64",
      "userId": "04413770521638197642"
     },
     "user_tz": -330
    },
    "id": "wYLQyopEG8nz"
   },
   "outputs": [],
   "source": [
    "# Function to convert state array into a string to store it as keys in the dictionary\n",
    "# states in Q-dictionary will be of form: x-4-5-3-8-x-x-x-x\n",
    "#   x | 4 | 5\n",
    "#   ----------\n",
    "#   3 | 8 | x\n",
    "#   ----------\n",
    "#   x | x | x\n",
    "\n",
    "def Q_state(state):\n",
    "    return ('-'.join(str(e) for e in state)).replace('nan','x')"
   ]
  },
  {
   "cell_type": "code",
   "execution_count": 5,
   "metadata": {
    "executionInfo": {
     "elapsed": 111,
     "status": "ok",
     "timestamp": 1639924533366,
     "user": {
      "displayName": "Rajib Biswas",
      "photoUrl": "https://lh3.googleusercontent.com/a/default-user=s64",
      "userId": "04413770521638197642"
     },
     "user_tz": -330
    },
    "id": "ZebMOoiVHBBr"
   },
   "outputs": [],
   "source": [
    "# Defining a function which will return valid (all possible actions) actions corresponding to a state\n",
    "# Important to avoid errors during deployment.\n",
    "\n",
    "def valid_actions(state):\n",
    "\n",
    "    valid_Actions = []\n",
    "    \n",
    "    valid_Actions = [i for i in env.action_space(state)[0]]\n",
    "    return valid_Actions"
   ]
  },
  {
   "cell_type": "code",
   "execution_count": 6,
   "metadata": {
    "executionInfo": {
     "elapsed": 108,
     "status": "ok",
     "timestamp": 1639924533369,
     "user": {
      "displayName": "Rajib Biswas",
      "photoUrl": "https://lh3.googleusercontent.com/a/default-user=s64",
      "userId": "04413770521638197642"
     },
     "user_tz": -330
    },
    "id": "IRciPUkYHDWf"
   },
   "outputs": [],
   "source": [
    "# Defining a function which will add new Q-values to the Q-dictionary. \n",
    "def add_to_dict(state):\n",
    "    state1 = Q_state(state)\n",
    "    \n",
    "    valid_act = valid_actions(state)\n",
    "    if state1 not in Q_dict.keys():\n",
    "        for action in valid_act:\n",
    "            Q_dict[state1][action]=0"
   ]
  },
  {
   "cell_type": "markdown",
   "metadata": {
    "id": "fNNi_EfHGggM"
   },
   "source": [
    "#### Epsilon-greedy strategy - Write your code here\n",
    "\n",
    "(you can build your epsilon-decay function similar to the one given at the end of the notebook)"
   ]
  },
  {
   "cell_type": "code",
   "execution_count": 7,
   "metadata": {
    "executionInfo": {
     "elapsed": 106,
     "status": "ok",
     "timestamp": 1639924533371,
     "user": {
      "displayName": "Rajib Biswas",
      "photoUrl": "https://lh3.googleusercontent.com/a/default-user=s64",
      "userId": "04413770521638197642"
     },
     "user_tz": -330
    },
    "id": "m0lMfqiJGggN"
   },
   "outputs": [],
   "source": [
    "# Defining epsilon-greedy policy. You can choose any function epsilon-decay strategy\n",
    "\n",
    "def epsilon_greedy(state, time):\n",
    "    epsilon = min_epsilon + (max_epsilon - min_epsilon) * np.exp(-decay_rate*time)\n",
    "    z = np.random.random()\n",
    "        \n",
    "    if z > epsilon:\n",
    "        state1 = Q_state(state)\n",
    "        action = max(Q_dict[state1],key=Q_dict[state1].get)   #Exploitation: this gets the action corresponding to max q-value of current state\n",
    "        esp_phase = 'Exploitation'\n",
    "    else:\n",
    "        possible_actions = [act for act in env.action_space(state)[0]]        \n",
    "        action = possible_actions[np.random.choice(range(len(possible_actions)))]    #Exploration: randomly choosing and action\n",
    "        esp_phase = 'Exploration'\n",
    "        #print(\"From Epsilon_greedy func:\",action)\n",
    "    return action, esp_phase"
   ]
  },
  {
   "cell_type": "markdown",
   "metadata": {
    "id": "H2kyQHOMGggR"
   },
   "source": [
    "#### Tracking the state-action pairs for checking convergence - write your code here"
   ]
  },
  {
   "cell_type": "code",
   "execution_count": 8,
   "metadata": {
    "executionInfo": {
     "elapsed": 102,
     "status": "ok",
     "timestamp": 1639924533373,
     "user": {
      "displayName": "Rajib Biswas",
      "photoUrl": "https://lh3.googleusercontent.com/a/default-user=s64",
      "userId": "04413770521638197642"
     },
     "user_tz": -330
    },
    "id": "qcxZ29vdGggS"
   },
   "outputs": [],
   "source": [
    "# Initialise Q_dictionary as 'Q_dict' and States_tracked as 'States_track' (for convergence)\n",
    "Q_dict = collections.defaultdict(dict)\n",
    "States_track = collections.defaultdict(dict)"
   ]
  },
  {
   "cell_type": "code",
   "execution_count": 9,
   "metadata": {
    "executionInfo": {
     "elapsed": 101,
     "status": "ok",
     "timestamp": 1639924533375,
     "user": {
      "displayName": "Rajib Biswas",
      "photoUrl": "https://lh3.googleusercontent.com/a/default-user=s64",
      "userId": "04413770521638197642"
     },
     "user_tz": -330
    },
    "id": "vs73iv8fHOxV"
   },
   "outputs": [],
   "source": [
    "# Initialise states to be tracked\n",
    "sample_q_values  = [('1-2-x-x-x-x-x-x-x',(6,5)),('x-x-3-4-x-x-x-x-x',(1,9)),('x-x-x-x-5-6-x-x-x',(7,3)),('x-x-x-x-x-x-x-x-x',(8,1)),\n",
    "                    ('x-x-x-x-x-x-7-8-x',(9,7)),('1-2-3-4-x-x-x-x-x',(5,5))]    #select some 4 Q-values\n",
    "def initialise_tracking_states():\n",
    "        \n",
    "    for q_values in sample_q_values:\n",
    "        state  = q_values[0]\n",
    "        action = q_values[1]\n",
    "        States_track[state][action] = []  "
   ]
  },
  {
   "cell_type": "code",
   "execution_count": 10,
   "metadata": {
    "executionInfo": {
     "elapsed": 98,
     "status": "ok",
     "timestamp": 1639924533377,
     "user": {
      "displayName": "Rajib Biswas",
      "photoUrl": "https://lh3.googleusercontent.com/a/default-user=s64",
      "userId": "04413770521638197642"
     },
     "user_tz": -330
    },
    "id": "dAbwJDMVHpwl"
   },
   "outputs": [],
   "source": [
    "#Defining a function to save the Q-dictionary as a pickle file\n",
    "\n",
    "def save_obj(obj, name ):\n",
    "    with open(path + name + '.pkl', 'wb') as f:\n",
    "        pickle.dump(obj, f, pickle.HIGHEST_PROTOCOL)"
   ]
  },
  {
   "cell_type": "code",
   "execution_count": 11,
   "metadata": {
    "executionInfo": {
     "elapsed": 93,
     "status": "ok",
     "timestamp": 1639924533380,
     "user": {
      "displayName": "Rajib Biswas",
      "photoUrl": "https://lh3.googleusercontent.com/a/default-user=s64",
      "userId": "04413770521638197642"
     },
     "user_tz": -330
    },
    "id": "6Pyj7nMVHsBi"
   },
   "outputs": [],
   "source": [
    "def save_tracking_states():\n",
    "    for state in States_track.keys():\n",
    "        for action in States_track[state].keys():\n",
    "            if state in Q_dict and action in Q_dict[state]:\n",
    "                States_track[state][action].append(Q_dict[state][action])"
   ]
  },
  {
   "cell_type": "code",
   "execution_count": 12,
   "metadata": {
    "executionInfo": {
     "elapsed": 93,
     "status": "ok",
     "timestamp": 1639924533383,
     "user": {
      "displayName": "Rajib Biswas",
      "photoUrl": "https://lh3.googleusercontent.com/a/default-user=s64",
      "userId": "04413770521638197642"
     },
     "user_tz": -330
    },
    "id": "B_8xSluUHvew"
   },
   "outputs": [],
   "source": [
    "initialise_tracking_states()"
   ]
  },
  {
   "cell_type": "markdown",
   "metadata": {
    "id": "-iPt--E9GggV"
   },
   "source": [
    "#### Define hyperparameters  ---write your code here"
   ]
  },
  {
   "cell_type": "code",
   "execution_count": 13,
   "metadata": {
    "executionInfo": {
     "elapsed": 91,
     "status": "ok",
     "timestamp": 1639924533385,
     "user": {
      "displayName": "Rajib Biswas",
      "photoUrl": "https://lh3.googleusercontent.com/a/default-user=s64",
      "userId": "04413770521638197642"
     },
     "user_tz": -330
    },
    "id": "G0_f5czFGggW"
   },
   "outputs": [],
   "source": [
    "#Defining parameters for the experiment\n",
    "\n",
    "EPISODES = 1500000\n",
    "LR    = 0.03               # learning rate\n",
    "GAMMA = 0.99                # discount factor\n",
    "\n",
    "max_epsilon = 1.0\n",
    "min_epsilon = 0.01\n",
    "decay_rate  = 0.00001     # epsilon decay rate\n",
    "threshold   = 10000         # no of episodes after which states_tracked wwill be saved\n",
    "policy_threshold = 20000    # no of episodes after which Q dictionary/table will be saved\n",
    "print_theshold   = 50000    # no of episodes after which print Win, loss and Tie count for this many episodes"
   ]
  },
  {
   "cell_type": "markdown",
   "metadata": {
    "id": "Md6twJ7wGggh"
   },
   "source": [
    "### Q-update loop ---write your code here\n",
    "\n",
    "- Steps followed for every Episodes:\n",
    "1. Initialize states with 'nan' at the state of the Episode\n",
    "2. Start the loop till no Terminal state\n",
    "    - Calcuate Epsilon Greedy action \n",
    "    - Get the next State, reward and terminal state using env.step function\n",
    "    - Calculate Win, Loss or Tie score based on rewards if it's terminal state\n",
    "    - Calculate Q-value for current state \n",
    "    - Track the 4 states and save them at every threshold value\n",
    "    - Save Q_dict at every policy threshold value\n",
    "    - Printing elapse time, Win, Loss and Tie Count for every 10k episodes \n",
    "    - Reset Win, Loss and Tie count\n",
    "    \n",
    "3. Save final States_tracked and Q_dict after all the episodes"
   ]
  },
  {
   "cell_type": "markdown",
   "metadata": {
    "id": "uGaSWAhOFHhA"
   },
   "source": [
    "## Analysis/Conclusion\n",
    "\n",
    "- Executed training for 1.5 Mn episodes\n",
    "- Till ~50K episodes, model was doing Exploration and after that it has started Exploitation \n",
    "- After 1.25 Mn episodes, model has converged\n",
    "- Model's winning ratio is ~91% of the games against Env having Random step strategy. \n",
    "\n",
    "Below is the outcome of last 50K games.\n",
    "##### Win: 45503  Loss: 1245  Tie: 3252  Win % 91.01"
   ]
  },
  {
   "cell_type": "code",
   "execution_count": 14,
   "metadata": {
    "colab": {
     "base_uri": "https://localhost:8080/"
    },
    "executionInfo": {
     "elapsed": 1115222,
     "status": "ok",
     "timestamp": 1639925648519,
     "user": {
      "displayName": "Rajib Biswas",
      "photoUrl": "https://lh3.googleusercontent.com/a/default-user=s64",
      "userId": "04413770521638197642"
     },
     "user_tz": -330
    },
    "id": "ldCgQuDNGggj",
    "outputId": "6983f166-322b-4d8f-93b5-3ac8f5649c55"
   },
   "outputs": [
    {
     "name": "stdout",
     "output_type": "stream",
     "text": [
      "Episodes completed:  50000  Time (min):  0.838  Epsilon Phase: Exploration  Win: 12643  Loss: 14335  Tie: 23022  Win % 25.29\n",
      "Episodes completed:  100000  Time (min):  1.587  Epsilon Phase: Exploitation  Win: 13298  Loss: 13760  Tie: 22942  Win % 26.6\n",
      "Episodes completed:  150000  Time (min):  2.284  Epsilon Phase: Exploitation  Win: 13632  Loss: 13632  Tie: 22736  Win % 27.26\n",
      "Episodes completed:  200000  Time (min):  2.989  Epsilon Phase: Exploitation  Win: 14551  Loss: 13149  Tie: 22300  Win % 29.1\n",
      "Episodes completed:  250000  Time (min):  3.65  Epsilon Phase: Exploitation  Win: 15375  Loss: 12820  Tie: 21805  Win % 30.75\n",
      "Episodes completed:  300000  Time (min):  4.349  Epsilon Phase: Exploitation  Win: 16080  Loss: 12297  Tie: 21623  Win % 32.16\n",
      "Episodes completed:  350000  Time (min):  5.01  Epsilon Phase: Exploitation  Win: 16747  Loss: 12180  Tie: 21073  Win % 33.49\n",
      "Episodes completed:  400000  Time (min):  5.817  Epsilon Phase: Exploitation  Win: 18779  Loss: 11297  Tie: 19924  Win % 37.56\n",
      "Episodes completed:  450000  Time (min):  6.386  Epsilon Phase: Exploitation  Win: 37368  Loss: 4492  Tie: 8140  Win % 74.74\n",
      "Episodes completed:  500000  Time (min):  7.005  Epsilon Phase: Exploitation  Win: 40723  Loss: 3215  Tie: 6062  Win % 81.45\n",
      "Episodes completed:  550000  Time (min):  7.552  Epsilon Phase: Exploitation  Win: 42480  Loss: 2697  Tie: 4823  Win % 84.96\n",
      "Episodes completed:  600000  Time (min):  8.157  Epsilon Phase: Exploitation  Win: 44094  Loss: 1997  Tie: 3909  Win % 88.19\n",
      "Episodes completed:  650000  Time (min):  8.705  Epsilon Phase: Exploitation  Win: 44800  Loss: 1654  Tie: 3546  Win % 89.6\n",
      "Episodes completed:  700000  Time (min):  9.305  Epsilon Phase: Exploitation  Win: 45144  Loss: 1517  Tie: 3339  Win % 90.29\n",
      "Episodes completed:  750000  Time (min):  9.852  Epsilon Phase: Exploitation  Win: 45438  Loss: 1357  Tie: 3205  Win % 90.88\n",
      "Episodes completed:  800000  Time (min):  10.454  Epsilon Phase: Exploitation  Win: 45554  Loss: 1359  Tie: 3087  Win % 91.11\n",
      "Episodes completed:  850000  Time (min):  11.0  Epsilon Phase: Exploitation  Win: 45414  Loss: 1318  Tie: 3268  Win % 90.83\n",
      "Episodes completed:  900000  Time (min):  11.607  Epsilon Phase: Exploitation  Win: 45441  Loss: 1342  Tie: 3217  Win % 90.88\n",
      "Episodes completed:  950000  Time (min):  12.153  Epsilon Phase: Exploitation  Win: 45512  Loss: 1305  Tie: 3183  Win % 91.02\n",
      "Episodes completed:  1000000  Time (min):  12.757  Epsilon Phase: Exploitation  Win: 45524  Loss: 1278  Tie: 3198  Win % 91.05\n",
      "Episodes completed:  1050000  Time (min):  13.301  Epsilon Phase: Exploitation  Win: 45420  Loss: 1349  Tie: 3231  Win % 90.84\n",
      "Episodes completed:  1100000  Time (min):  13.906  Epsilon Phase: Exploitation  Win: 45511  Loss: 1331  Tie: 3158  Win % 91.02\n",
      "Episodes completed:  1150000  Time (min):  14.449  Epsilon Phase: Exploitation  Win: 45513  Loss: 1251  Tie: 3236  Win % 91.03\n",
      "Episodes completed:  1200000  Time (min):  15.053  Epsilon Phase: Exploitation  Win: 45476  Loss: 1268  Tie: 3256  Win % 90.95\n",
      "Episodes completed:  1250000  Time (min):  15.597  Epsilon Phase: Exploitation  Win: 45612  Loss: 1190  Tie: 3198  Win % 91.22\n",
      "Episodes completed:  1300000  Time (min):  16.201  Epsilon Phase: Exploitation  Win: 45484  Loss: 1188  Tie: 3328  Win % 90.97\n",
      "Episodes completed:  1350000  Time (min):  16.749  Epsilon Phase: Exploitation  Win: 45608  Loss: 1228  Tie: 3164  Win % 91.22\n",
      "Episodes completed:  1400000  Time (min):  17.353  Epsilon Phase: Exploitation  Win: 45557  Loss: 1234  Tie: 3209  Win % 91.11\n",
      "Episodes completed:  1450000  Time (min):  17.9  Epsilon Phase: Exploitation  Win: 45537  Loss: 1214  Tie: 3249  Win % 91.07\n",
      "Episodes completed:  1500000  Time (min):  18.506  Epsilon Phase: Exploitation  Win: 45503  Loss: 1245  Tie: 3252  Win % 91.01\n",
      "Total Time (min): 18.507\n"
     ]
    }
   ],
   "source": [
    "start_time = time.time()\n",
    "\n",
    "##To keep track of how many games are won/lost by Agent after every few episodes\n",
    "agent_win =0\n",
    "agent_loss = 0\n",
    "tie = 0\n",
    "exploration  =0\n",
    "exploitation =0 \n",
    "\n",
    "for episode in range(EPISODES):\n",
    "\n",
    "    ##### Start writing your code from the next line\n",
    "    env = TicTacToe() # creating an instance of the environment\n",
    "    curr_state = env.state    \n",
    "    #print(\"initial_state:\",curr_state)\n",
    "    \n",
    "    add_to_dict(curr_state)  # adding the current state to dictionary\n",
    "    done = False  \n",
    "    \n",
    "    while done != True:  \n",
    "        curr_state_temp = Q_state(curr_state)\n",
    "           \n",
    "        curr_action,esp_phase = epsilon_greedy(curr_state, episode)  # applying epislon method\n",
    "        if esp_phase=='Exploitation':\n",
    "            exploitation +=1\n",
    "        else:\n",
    "            exploration +=1            \n",
    "               \n",
    "        next_state, reward, done = env.step(curr_state, curr_action) # Get Next State , Rewards and check if Game is over or can continue\n",
    "       \n",
    "        add_to_dict(next_state)\n",
    "        next_state_temp = Q_state(next_state)\n",
    "        \n",
    "        ## Checking if it's win, loss or tie for agent and couting the same\n",
    "        if done==True:\n",
    "            if reward == 10:\n",
    "                agent_win+=1\n",
    "            elif reward == -10:\n",
    "                agent_loss+=1\n",
    "            else:\n",
    "                tie +=1\n",
    "        \n",
    "        # Calculate Q-value for current state \n",
    "        if done != True:\n",
    "            max_next = max(Q_dict[next_state_temp],key=Q_dict[next_state_temp].get)  \n",
    "                        \n",
    "            #this gets the action corresponding to max q-value of next state\n",
    "            Q_dict[curr_state_temp][curr_action] += LR * ((reward + (GAMMA*(Q_dict[next_state_temp][max_next]))) - Q_dict[curr_state_temp][curr_action]) \n",
    "        else:\n",
    "            Q_dict[curr_state_temp][curr_action] += LR * ((reward - Q_dict[curr_state_temp][curr_action]))\n",
    "\n",
    "        # navigating to next state\n",
    "        curr_state = next_state  #state(t) became state(t-1)\n",
    "        \n",
    "    #states tracking   \n",
    "    if ((episode+1)%threshold)==0:\n",
    "        save_tracking_states()\n",
    "        save_obj(States_track,'States_tracking')\n",
    "\n",
    "    if ((episode+1)% policy_threshold) == 0:  #At every policy threshold, the Q-dict will be saved\n",
    "        save_obj(Q_dict,'Policy_Q_dict')  \n",
    "        \n",
    "    ## Print How many episodes are completed with Elapsed time, Win, Loss and Tie Ratio and Exploration/Exploitation phase (based on max count)    \n",
    "    if ((episode+1)%print_theshold == 0):\n",
    "        if exploitation > exploration:\n",
    "            esp_phase='Exploitation'\n",
    "        else:\n",
    "            esp_phase='Exploration'\n",
    "            \n",
    "        print(\"Episodes completed: \",(episode+1),\" Time (min): \",round((time.time()-start_time)/60,3),\" Epsilon Phase:\",esp_phase,\" Win:\",agent_win,\" Loss:\",agent_loss,\n",
    "              \" Tie:\",tie,\" Win %\",round(agent_win/(agent_win+agent_loss+tie)*100,2))\n",
    "        agent_win   =0\n",
    "        agent_loss  =0\n",
    "        tie         =0\n",
    "        exploitation=0\n",
    "        exploration =0\n",
    "    \n",
    "    \n",
    "elapsed_time = round((time.time() - start_time)/60,3)\n",
    "print(\"Total Time (min):\" ,elapsed_time)\n",
    "\n",
    "save_obj(States_track,'States_tracked')   \n",
    "save_obj(Q_dict,'Policy')"
   ]
  },
  {
   "cell_type": "markdown",
   "metadata": {
    "id": "t6eMFbb8Ggg2"
   },
   "source": [
    "#### Check the Q-dictionary"
   ]
  },
  {
   "cell_type": "code",
   "execution_count": 15,
   "metadata": {
    "colab": {
     "base_uri": "https://localhost:8080/"
    },
    "executionInfo": {
     "elapsed": 43,
     "status": "ok",
     "timestamp": 1639925648524,
     "user": {
      "displayName": "Rajib Biswas",
      "photoUrl": "https://lh3.googleusercontent.com/a/default-user=s64",
      "userId": "04413770521638197642"
     },
     "user_tz": -330
    },
    "id": "F1tnDJWkGgg9",
    "outputId": "6802ce53-a4d6-44bb-d4bc-ef5bc1df46ab"
   },
   "outputs": [
    {
     "data": {
      "text/plain": [
       "808162"
      ]
     },
     "execution_count": 15,
     "metadata": {},
     "output_type": "execute_result"
    }
   ],
   "source": [
    "len(Q_dict)"
   ]
  },
  {
   "cell_type": "code",
   "execution_count": 16,
   "metadata": {
    "colab": {
     "base_uri": "https://localhost:8080/"
    },
    "executionInfo": {
     "elapsed": 36,
     "status": "ok",
     "timestamp": 1639925648528,
     "user": {
      "displayName": "Rajib Biswas",
      "photoUrl": "https://lh3.googleusercontent.com/a/default-user=s64",
      "userId": "04413770521638197642"
     },
     "user_tz": -330
    },
    "id": "cFgUqfcQGghB",
    "outputId": "dd197e8b-3545-4ee7-c1e8-1a9dd879ceb5"
   },
   "outputs": [
    {
     "data": {
      "text/plain": [
       "[((5, 7), -0.26257587310507174),\n",
       " ((5, 9), -0.26257587310507174),\n",
       " ((6, 3), -0.26257587310507174),\n",
       " ((6, 5), -0.26257587310507174),\n",
       " ((6, 7), -0.26257587310507174),\n",
       " ((7, 3), -0.26257587310507174),\n",
       " ((7, 7), -0.26257587310507174),\n",
       " ((7, 9), -0.26257587310507174),\n",
       " ((8, 3), -0.26257587310507174),\n",
       " ((8, 5), -0.26257587310507174)]"
      ]
     },
     "execution_count": 16,
     "metadata": {},
     "output_type": "execute_result"
    }
   ],
   "source": [
    "# try checking for one of the states - that which action your agent thinks is the best  -----This will not be evaluated\n",
    "sorted(Q_dict['1-2-x-x-x-x-x-x-x'].items(), key=lambda kv: kv[1], reverse=True)[:10]"
   ]
  },
  {
   "cell_type": "markdown",
   "metadata": {
    "id": "KGPZEQDFGghG"
   },
   "source": [
    "#### Check the states tracked for Q-values convergence\n",
    "(non-evaluative)"
   ]
  },
  {
   "cell_type": "code",
   "execution_count": 17,
   "metadata": {
    "executionInfo": {
     "elapsed": 32,
     "status": "ok",
     "timestamp": 1639925648530,
     "user": {
      "displayName": "Rajib Biswas",
      "photoUrl": "https://lh3.googleusercontent.com/a/default-user=s64",
      "userId": "04413770521638197642"
     },
     "user_tz": -330
    },
    "id": "9s1Tvz8HGghH"
   },
   "outputs": [],
   "source": [
    "# Write the code for plotting the graphs for state-action pairs tracked\n",
    "#States_track"
   ]
  },
  {
   "cell_type": "code",
   "execution_count": 18,
   "metadata": {
    "colab": {
     "base_uri": "https://localhost:8080/",
     "height": 461
    },
    "executionInfo": {
     "elapsed": 1008,
     "status": "ok",
     "timestamp": 1639925649508,
     "user": {
      "displayName": "Rajib Biswas",
      "photoUrl": "https://lh3.googleusercontent.com/a/default-user=s64",
      "userId": "04413770521638197642"
     },
     "user_tz": -330
    },
    "id": "pVQInsg7GghL",
    "outputId": "30d1ee71-3144-4deb-90ff-cee9d06db7f1"
   },
   "outputs": [
    {
     "data": {
      "text/plain": [
       "<function matplotlib.pyplot.show>"
      ]
     },
     "execution_count": 18,
     "metadata": {},
     "output_type": "execute_result"
    },
    {
     "data": {
      "image/png": "[encoded data removed]",
      "text/plain": [
       "<Figure size 1152x504 with 4 Axes>"
      ]
     },
     "metadata": {
      "needs_background": "light"
     },
     "output_type": "display_data"
    }
   ],
   "source": [
    "plt.figure(0, figsize=(16,7))\n",
    "\n",
    "x_axis = np.asarray(range(0, len(States_track[sample_q_values[0][0]][sample_q_values[0][1]])))\n",
    "#x_axis = np.asarray(range(0,EPISODES//threshold))\n",
    "plt.subplot(221)\n",
    "plt.plot(x_axis,np.asarray(States_track[sample_q_values[0][0]][sample_q_values[0][1]]))\n",
    "plt.title(\"Queue Value: \"+str(sample_q_values[0]))\n",
    "plt.show\n",
    "\n",
    "x_axis = np.asarray(range(0, len(States_track[sample_q_values[1][0]][sample_q_values[1][1]])))\n",
    "plt.subplot(222)\n",
    "plt.plot(x_axis,np.asarray(States_track[sample_q_values[1][0]][sample_q_values[1][1]]))\n",
    "plt.title(\"Queue Value: \"+str(sample_q_values[1]))\n",
    "plt.show\n",
    "\n",
    "x_axis = np.asarray(range(0, len(States_track[sample_q_values[2][0]][sample_q_values[2][1]])))\n",
    "plt.subplot(223)\n",
    "plt.plot(x_axis,np.asarray(States_track[sample_q_values[2][0]][sample_q_values[2][1]]))\n",
    "plt.title(\"Queue Value: \"+str(sample_q_values[2]))\n",
    "plt.show\n",
    "\n",
    "x_axis = np.asarray(range(0, len(States_track[sample_q_values[3][0]][sample_q_values[3][1]])))\n",
    "plt.subplot(224)\n",
    "plt.plot(x_axis,np.asarray(States_track[sample_q_values[3][0]][sample_q_values[3][1]]))\n",
    "plt.title(\"Queue Value: \"+str(sample_q_values[3]))\n",
    "plt.show"
   ]
  },
  {
   "cell_type": "markdown",
   "metadata": {
    "id": "b2Opp8_NITkC"
   },
   "source": [
    "### Epsilon - decay check"
   ]
  },
  {
   "cell_type": "code",
   "execution_count": 19,
   "metadata": {
    "colab": {
     "base_uri": "https://localhost:8080/",
     "height": 278
    },
    "executionInfo": {
     "elapsed": 2609,
     "status": "ok",
     "timestamp": 1639925652099,
     "user": {
      "displayName": "Rajib Biswas",
      "photoUrl": "https://lh3.googleusercontent.com/a/default-user=s64",
      "userId": "04413770521638197642"
     },
     "user_tz": -330
    },
    "id": "gQ_D_JsuGghR",
    "outputId": "8051fe90-855c-4a25-86e4-99dfa39ac383"
   },
   "outputs": [
    {
     "data": {
      "image/png": "[encoded data removed]",
      "text/plain": [
       "<Figure size 432x288 with 1 Axes>"
      ]
     },
     "metadata": {
      "needs_background": "light"
     },
     "output_type": "display_data"
    }
   ],
   "source": [
    "time = np.arange(0,EPISODES)\n",
    "epsilon = []\n",
    "for i in range(0,EPISODES):\n",
    "    epsilon.append(min_epsilon + (max_epsilon - min_epsilon) * np.exp(-decay_rate*i))\n",
    "    \n",
    "plt.plot(time, epsilon)\n",
    "plt.show()"
   ]
  },
  {
   "cell_type": "code",
   "execution_count": 21,
   "metadata": {
    "executionInfo": {
     "elapsed": 355,
     "status": "ok",
     "timestamp": 1639925735495,
     "user": {
      "displayName": "Rajib Biswas",
      "photoUrl": "https://lh3.googleusercontent.com/a/default-user=s64",
      "userId": "04413770521638197642"
     },
     "user_tz": -330
    },
    "id": "J7c2xADQGghV"
   },
   "outputs": [],
   "source": [
    "with open('/content/drive/MyDrive/Colab Notebooks/RL/Tic Tac Toe/States_tracked.pkl', 'rb') as handle:\n",
    "  States_track = pickle.load(handle)"
   ]
  }
 ],
 "metadata": {
  "colab": {
   "collapsed_sections": [],
   "name": "TicTacToe_Agent_My.ipynb",
   "provenance": []
  },
  "kernelspec": {
   "display_name": "Python 3",
   "language": "python",
   "name": "python3"
  },
  "language_info": {
   "codemirror_mode": {
    "name": "ipython",
    "version": 3
   },
   "file_extension": ".py",
   "mimetype": "text/x-python",
   "name": "python",
   "nbconvert_exporter": "python",
   "pygments_lexer": "ipython3",
   "version": "3.9.1"
  }
 },
 "nbformat": 4,
 "nbformat_minor": 1
}
